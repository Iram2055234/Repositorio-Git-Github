{
  "nbformat": 4,
  "nbformat_minor": 0,
  "metadata": {
    "colab": {
      "provenance": [],
      "authorship_tag": "ABX9TyM3zx0LOuk6pgVRRUelGQO4",
      "include_colab_link": true
    },
    "kernelspec": {
      "name": "python3",
      "display_name": "Python 3"
    },
    "language_info": {
      "name": "python"
    }
  },
  "cells": [
    {
      "cell_type": "markdown",
      "metadata": {
        "id": "view-in-github",
        "colab_type": "text"
      },
      "source": [
        "<a href=\"https://colab.research.google.com/github/Iram2055234/Repositorio-Git-Github/blob/main/pia.ipynb\" target=\"_parent\"><img src=\"https://colab.research.google.com/assets/colab-badge.svg\" alt=\"Open In Colab\"/></a>"
      ]
    },
    {
      "cell_type": "code",
      "source": [
        "class Tres_programas:\n",
        "    def __init__(self, programa):\n",
        "        self.programa = programa\n",
        "\n",
        "    def ejecutar_programa(self):\n",
        "        if self.programa == 1:\n",
        "            # Programa de descuento en tienda\n",
        "            class Tienda:\n",
        "                def __init__(self, compra):\n",
        "                    self.compra = compra\n",
        "\n",
        "                def descuento_clientes(self):\n",
        "                    pagar = self.compra\n",
        "                    if self.compra < 500:\n",
        "                        pagar = self.compra\n",
        "                    elif 500 <= self.compra <= 1000:\n",
        "                        pagar = self.compra - (self.compra * 0.05)\n",
        "                    elif 1000 < self.compra <= 7000:\n",
        "                        pagar = self.compra - (self.compra * 0.11)\n",
        "                    elif 7000 < self.compra <= 15000:\n",
        "                        pagar = self.compra - (self.compra * 0.18)\n",
        "                    elif self.compra > 15000:\n",
        "                        pagar = self.compra - (self.compra * 0.25)\n",
        "                    return pagar\n",
        "\n",
        "            tienda = Tienda(2000)\n",
        "            print(tienda.descuento_clientes())\n",
        "\n",
        "        elif self.programa == 2:\n",
        "            # Programa de información de dinosaurio\n",
        "            class Dinosaurio:\n",
        "                def __init__(self, NOM, PES, LON):\n",
        "                    self.NOM = NOM\n",
        "                    self.PES = PES\n",
        "                    self.LON = LON\n",
        "                    self.PESKIL = self.PES * 0.45359237  # 1 libra = 0.45359237 kg\n",
        "                    self.LONMET = self.LON * 0.3048  # 1 pie = 0.3048 metros\n",
        "\n",
        "                def dinosaurio(self):\n",
        "                    print(f\"Nombre del dinosaurio: {self.NOM}\")\n",
        "                    print(f\"Peso del dinosaurio (en kg): {self.PESKIL}\")\n",
        "                    print(f\"Longitud del dinosaurio (en m): {self.LONMET}\")\n",
        "\n",
        "            nombre = \"T-Rex\"\n",
        "            peso = 12000  # libras\n",
        "            longitud = 150  # pies\n",
        "\n",
        "            dinosaurio1 = Dinosaurio(nombre, peso, longitud)\n",
        "            dinosaurio1.dinosaurio()\n",
        "\n",
        "        elif self.programa == 3:\n",
        "            # Programa de costo de gasolina en estación de servicio\n",
        "            class EstacionDeServicio:\n",
        "                def __init__(self, galones):\n",
        "                    self.GAL = galones\n",
        "                    self.TOTAL = 0  # Inicializamos el total en cero al inicio\n",
        "\n",
        "                def gasolina(self):\n",
        "                    litros = self.GAL * 3.785  # Convertir galones a litros\n",
        "                    precio_por_litro = 8.20\n",
        "                    self.TOTAL = litros * precio_por_litro  # Calcular el costo total\n",
        "                    return self.TOTAL  # Devolver el total a pagar por el cliente\n",
        "\n",
        "            cantidad_de_galones = 10\n",
        "            estacion = EstacionDeServicio(cantidad_de_galones)\n",
        "            total_a_pagar = estacion.gasolina()\n",
        "            print(f\"El total a pagar por {cantidad_de_galones} galones es: ${total_a_pagar:.2f}\")\n",
        "\n",
        "# Solicitar al usuario que ingrese el número del programa a ejecutar\n",
        "programa_a_ejecutar = int(input(\"Ingrese el número del programa a ejecutar (1, 2 o 3): \"))\n",
        "ejecutor = Tres_programas(programa_a_ejecutar)\n",
        "ejecutor.ejecutar_programa()\n"
      ],
      "metadata": {
        "colab": {
          "base_uri": "https://localhost:8080/"
        },
        "id": "ukEx6V--Qw7Q",
        "outputId": "4291e8dc-094a-4958-f37f-755698fca6de"
      },
      "execution_count": 3,
      "outputs": [
        {
          "output_type": "stream",
          "name": "stdout",
          "text": [
            "Ingrese el número del programa a ejecutar (1, 2 o 3): 2\n",
            "Nombre del dinosaurio: T-Rex\n",
            "Peso del dinosaurio (en kg): 5443.10844\n",
            "Longitud del dinosaurio (en m): 45.72\n"
          ]
        }
      ]
    }
  ]
}