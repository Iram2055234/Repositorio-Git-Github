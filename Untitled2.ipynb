{
  "nbformat": 4,
  "nbformat_minor": 0,
  "metadata": {
    "colab": {
      "provenance": [],
      "authorship_tag": "ABX9TyORthKZFYxmrrlV1T2pQYY1",
      "include_colab_link": true
    },
    "kernelspec": {
      "name": "python3",
      "display_name": "Python 3"
    },
    "language_info": {
      "name": "python"
    }
  },
  "cells": [
    {
      "cell_type": "markdown",
      "metadata": {
        "id": "view-in-github",
        "colab_type": "text"
      },
      "source": [
        "<a href=\"https://colab.research.google.com/github/Iram2055234/Repositorio-Git-Github/blob/main/Untitled2.ipynb\" target=\"_parent\"><img src=\"https://colab.research.google.com/assets/colab-badge.svg\" alt=\"Open In Colab\"/></a>"
      ]
    },
    {
      "cell_type": "code",
      "execution_count": 5,
      "metadata": {
        "colab": {
          "base_uri": "https://localhost:8080/"
        },
        "id": "urRaHKMDnxGS",
        "outputId": "e2bcc5ae-b558-408b-f8ab-2a83949bb076"
      },
      "outputs": [
        {
          "output_type": "stream",
          "name": "stdout",
          "text": [
            "El valor del lado mayor es: 5\n",
            "El triángulo es equilátero\n",
            "El valor del lado mayor es: 10\n",
            "El triángulo no es equilátero\n"
          ]
        }
      ],
      "source": [
        "#Rodriguez Lopez Iram 2055234\n",
        "class Triangulo:\n",
        "    def __init__(self, lado1, lado2, lado3):\n",
        "        self.lado1 = lado1\n",
        "        self.lado2 = lado2\n",
        "        self.lado3 = lado3\n",
        "\n",
        "    def inicializar_lados(self, lado1, lado2, lado3):\n",
        "        self.lado1 = lado1\n",
        "        self.lado2 = lado2\n",
        "        self.lado3 = lado3\n",
        "\n",
        "    def mostrar_valor_lado_mayor(self):\n",
        "        print(f\"El valor del lado mayor es: {max(self.lado1, self.lado2, self.lado3)}\")\n",
        "\n",
        "    def mostrar_si_es_equilatero(self):\n",
        "        if self.lado1 == self.lado2 == self.lado3:\n",
        "            print(\"El triángulo es equilátero\")\n",
        "        else:\n",
        "            print(\"El triángulo no es equilátero\")\n",
        "\n",
        "triangulo1 = Triangulo(5, 5, 5)\n",
        "\n",
        "triangulo1.mostrar_valor_lado_mayor()\n",
        "triangulo1.mostrar_si_es_equilatero()\n",
        "\n",
        "triangulo1.inicializar_lados(7, 7, 10)\n",
        "triangulo1.mostrar_valor_lado_mayor()\n",
        "triangulo1.mostrar_si_es_equilatero()"
      ]
    }
  ]
}