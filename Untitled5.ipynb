{
  "nbformat": 4,
  "nbformat_minor": 0,
  "metadata": {
    "colab": {
      "provenance": [],
      "authorship_tag": "ABX9TyMWoV8Ie9rHWCeedyftZ7f/",
      "include_colab_link": true
    },
    "kernelspec": {
      "name": "python3",
      "display_name": "Python 3"
    },
    "language_info": {
      "name": "python"
    }
  },
  "cells": [
    {
      "cell_type": "markdown",
      "metadata": {
        "id": "view-in-github",
        "colab_type": "text"
      },
      "source": [
        "<a href=\"https://colab.research.google.com/github/Iram2055234/Repositorio-Git-Github/blob/main/Untitled5.ipynb\" target=\"_parent\"><img src=\"https://colab.research.google.com/assets/colab-badge.svg\" alt=\"Open In Colab\"/></a>"
      ]
    },
    {
      "cell_type": "code",
      "execution_count": 2,
      "metadata": {
        "colab": {
          "base_uri": "https://localhost:8080/"
        },
        "id": "fNUCGQrTuZcL",
        "outputId": "fba1723e-9104-438a-9411-03d09d3ad34c"
      },
      "outputs": [
        {
          "output_type": "stream",
          "name": "stdout",
          "text": [
            "El archivo ejemplo.txt ya existe.\n",
            "Ingrese el contenido a escribir en el archivo: olñnjiñhioñ\n",
            "Contenido escrito en el archivo.\n",
            "Contenido del archivo ejemplo.txt:\n",
            "olñnjiñhioñ\n"
          ]
        }
      ],
      "source": [
        "#método llamado archivos_texto\n",
        "class ManejoArchivosTexto:\n",
        "    def __init__(self, nombre_archivo):\n",
        "        self.nombre_archivo = nombre_archivo\n",
        "\n",
        "    def crear_archivo(self):\n",
        "        try:\n",
        "            with open(self.nombre_archivo, 'x') as archivo:\n",
        "                print(f\"Archivo {self.nombre_archivo} creado exitosamente.\")\n",
        "        except FileExistsError:\n",
        "            print(f\"El archivo {self.nombre_archivo} ya existe.\")\n",
        "\n",
        "    def escribir_archivo(self, contenido):\n",
        "        with open(self.nombre_archivo, 'w') as archivo:\n",
        "            archivo.write(contenido)\n",
        "            print(\"Contenido escrito en el archivo.\")\n",
        "\n",
        "    def leer_archivo(self):\n",
        "        try:\n",
        "            with open(self.nombre_archivo, 'r') as archivo:\n",
        "                contenido = archivo.read()\n",
        "                print(f\"Contenido del archivo {self.nombre_archivo}:\\n{contenido}\")\n",
        "        except FileNotFoundError:\n",
        "            print(f\"El archivo {self.nombre_archivo} no existe.\")\n",
        "\n",
        "    def archivos_texto(self):\n",
        "        self.crear_archivo()\n",
        "        contenido = input(\"Ingrese el contenido a escribir en el archivo: \")\n",
        "        self.escribir_archivo(contenido)\n",
        "        self.leer_archivo()\n",
        "\n",
        "\n",
        "nombre_del_archivo = \"ejemplo.txt\"\n",
        "manejo_archivos = ManejoArchivosTexto(nombre_del_archivo)\n",
        "manejo_archivos.archivos_texto()\n"
      ]
    }
  ]
}