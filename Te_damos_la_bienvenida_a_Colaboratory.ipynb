{
  "cells": [
    {
      "cell_type": "markdown",
      "metadata": {
        "id": "view-in-github",
        "colab_type": "text"
      },
      "source": [
        "<a href=\"https://colab.research.google.com/github/Iram2055234/Repositorio-Git-Github/blob/main/Te_damos_la_bienvenida_a_Colaboratory.ipynb\" target=\"_parent\"><img src=\"https://colab.research.google.com/assets/colab-badge.svg\" alt=\"Open In Colab\"/></a>"
      ]
    },
    {
      "cell_type": "code",
      "source": [
        "#Iram Rodriguez Lopez 20255234\n",
        "#4. Declara un método llamado dinosaurio (), utilizando los valores de los elementos del objeto(self).\n",
        "class Dinosaurio:\n",
        "    def __init__(self, NOM, PES, LON):\n",
        "        self.NOM = NOM\n",
        "        self.PES = PES\n",
        "        self.LON = LON\n",
        "        self.PESKIL = self.PES * 0.45359237 # 1 libra = 0.45359237 kg\n",
        "        self.LONMET = self.LON * 0.3048      # 1 pie = 0.3048 metros\n",
        "\n",
        "    def dinosaurio(self):\n",
        "        print(f\"Nombre del dinosaurio: {self.NOM}\")\n",
        "        print(f\"Peso del dinosaurio (en kg): {self.PESKIL}\")\n",
        "        print(f\"Longitud del dinosaurio (en m): {self.LONMET}\")\n",
        "\n",
        "\n",
        "\n",
        "nombre = \"T-Rex\"\n",
        "peso = 12000 # libras\n",
        "longitud = 150 # pies\n",
        "\n",
        "dinosaurio1 = Dinosaurio(nombre, peso, longitud)\n",
        "dinosaurio1.dinosaurio()"
      ],
      "metadata": {
        "id": "qtsfkQiN-kte",
        "outputId": "19202fd5-46b7-448a-e5e3-a3efcd7aef81",
        "colab": {
          "base_uri": "https://localhost:8080/"
        }
      },
      "execution_count": 6,
      "outputs": [
        {
          "output_type": "stream",
          "name": "stdout",
          "text": [
            "Nombre del dinosaurio: T-Rex\n",
            "Peso del dinosaurio (en kg): 5443.10844\n",
            "Longitud del dinosaurio (en m): 45.72\n"
          ]
        }
      ]
    }
  ],
  "metadata": {
    "colab": {
      "name": "Te damos la bienvenida a Colaboratory",
      "toc_visible": true,
      "provenance": [],
      "include_colab_link": true
    },
    "kernelspec": {
      "display_name": "Python 3",
      "name": "python3"
    }
  },
  "nbformat": 4,
  "nbformat_minor": 0
}