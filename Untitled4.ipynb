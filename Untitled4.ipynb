{
  "nbformat": 4,
  "nbformat_minor": 0,
  "metadata": {
    "colab": {
      "provenance": [],
      "authorship_tag": "ABX9TyNdzAgnWS+4l76EN4hfp+W2",
      "include_colab_link": true
    },
    "kernelspec": {
      "name": "python3",
      "display_name": "Python 3"
    },
    "language_info": {
      "name": "python"
    }
  },
  "cells": [
    {
      "cell_type": "markdown",
      "metadata": {
        "id": "view-in-github",
        "colab_type": "text"
      },
      "source": [
        "<a href=\"https://colab.research.google.com/github/Iram2055234/Repositorio-Git-Github/blob/main/Untitled4.ipynb\" target=\"_parent\"><img src=\"https://colab.research.google.com/assets/colab-badge.svg\" alt=\"Open In Colab\"/></a>"
      ]
    },
    {
      "cell_type": "code",
      "execution_count": null,
      "metadata": {
        "id": "kmFTcvNNhxaA"
      },
      "outputs": [],
      "source": [
        "class Gasolineria:\n",
        "    def __init__(self):\n",
        "        self.galon = 3.785\n",
        "        self.litro = 8.20\n",
        "\n",
        "    def obtener_datos_usuario(self):\n",
        "\n",
        "        galon_usuario = float(input(\"Ingrese el valor por galón: \"))\n",
        "        litro_usuario = float(input(\"Ingrese el valor por litro: \"))\n",
        "\n",
        "        self.galon = galon_usuario\n",
        "        self.litro = litro_usuario\n",
        "\n",
        "    def archivos_texto(self):\n",
        "\n",
        "        with open(\"archivo.txt\", \"w\") as archivo:\n",
        "            archivo.write(f\"Galón: {self.galon}\\n\")\n",
        "            archivo.write(f\"Litro: {self.litro}\\n\")\n",
        "\n",
        "        with open(\"archivo.txt\", \"r\") as archivo:\n",
        "            galon = float(archivo.readline().split(\":\")[1].strip())\n",
        "            litro = float(archivo.readline().split(\":\")[1].strip())\n",
        "\n",
        "        print(\"Valores leídos del archivo:\")\n",
        "        print(f\"Galón: {galon}\")\n",
        "        print(f\"Litro: {litro}\")\n",
        "\n",
        "gasolineria = Gasolineria()\n",
        "gasolineria.obtener_datos_usuario()\n",
        "gasolineria.archivos_texto()\n"
      ]
    }
  ]
}