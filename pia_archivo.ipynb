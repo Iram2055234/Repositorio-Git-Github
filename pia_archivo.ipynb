{
  "nbformat": 4,
  "nbformat_minor": 0,
  "metadata": {
    "colab": {
      "provenance": [],
      "authorship_tag": "ABX9TyOmM1YylVnQoRl6ytrLt8ou",
      "include_colab_link": true
    },
    "kernelspec": {
      "name": "python3",
      "display_name": "Python 3"
    },
    "language_info": {
      "name": "python"
    }
  },
  "cells": [
    {
      "cell_type": "markdown",
      "metadata": {
        "id": "view-in-github",
        "colab_type": "text"
      },
      "source": [
        "<a href=\"https://colab.research.google.com/github/Iram2055234/Repositorio-Git-Github/blob/main/pia_archivo.ipynb\" target=\"_parent\"><img src=\"https://colab.research.google.com/assets/colab-badge.svg\" alt=\"Open In Colab\"/></a>"
      ]
    },
    {
      "cell_type": "code",
      "execution_count": 3,
      "metadata": {
        "colab": {
          "base_uri": "https://localhost:8080/"
        },
        "id": "-nt3c4TwyF-5",
        "outputId": "38082232-4a23-4dee-b3b6-d8688b422d35"
      },
      "outputs": [
        {
          "output_type": "stream",
          "name": "stdout",
          "text": [
            "Ingrese el número del programa a ejecutar (1, 2 o 3): 2\n",
            "Ingrese el nombre del dinosaurio: ´jo´jo\n",
            "Ingrese el peso del dinosaurio en libras: 6\n",
            "Ingrese la longitud del dinosaurio en pies: 96\n",
            "Archivo 'dinosaurio.txt' creado correctamente.\n"
          ]
        }
      ],
      "source": [
        "class Tres_programas:\n",
        "    def __init__(self, programa):\n",
        "        self.programa = programa\n",
        "\n",
        "    def ejecutar_programa(self):\n",
        "        if self.programa == 1:\n",
        "            # Programa de descuento en tienda\n",
        "\n",
        "            class Tienda:\n",
        "                def __init__(self):\n",
        "                    self.compra = 0\n",
        "\n",
        "                def obtener_datos_compra(self):\n",
        "                    self.compra = float(input(\"Ingrese el monto de la compra: \"))\n",
        "\n",
        "                def descuento_clientes(self):\n",
        "                    pagar = self.compra\n",
        "                    if self.compra < 500:\n",
        "                        pagar = self.compra\n",
        "                    elif 500 <= self.compra <= 1000:\n",
        "                        pagar = self.compra - (self.compra * 0.05)\n",
        "                    elif 1000 < self.compra <= 7000:\n",
        "                        pagar = self.compra - (self.compra * 0.11)\n",
        "                    elif 7000 < self.compra <= 15000:\n",
        "                        pagar = self.compra - (self.compra * 0.18)\n",
        "                    elif self.compra > 15000:\n",
        "                        pagar = self.compra - (self.compra * 0.25)\n",
        "                    return pagar\n",
        "\n",
        "                def archivos_texto(self):\n",
        "                    with open(\"tienda.txt\", 'w') as archivo:\n",
        "                        archivo.write(f\"Monto de la compra: {self.compra}\\n\")\n",
        "                        archivo.write(f\"Total a pagar con descuento: {self.descuento_clientes()}\\n\")\n",
        "                    print(\"Archivo 'tienda.txt' creado correctamente.\")\n",
        "\n",
        "            tienda = Tienda()\n",
        "            tienda.obtener_datos_compra()\n",
        "            tienda.archivos_texto()\n",
        "\n",
        "        elif self.programa == 2:\n",
        "            # Programa dinosaurio\n",
        "            class Dinosaurio:\n",
        "                def __init__(self):\n",
        "                    self.NOM = \"\"\n",
        "                    self.PES = 0\n",
        "                    self.LON = 0\n",
        "                    self.PESKIL = 0\n",
        "                    self.LONMET = 0\n",
        "\n",
        "                def obtener_datos_dinosaurio(self):\n",
        "                    self.NOM = input(\"Ingrese el nombre del dinosaurio: \")\n",
        "                    self.PES = float(input(\"Ingrese el peso del dinosaurio en libras: \"))\n",
        "                    self.LON = float(input(\"Ingrese la longitud del dinosaurio en pies: \"))\n",
        "                    self.PESKIL = self.PES * 0.45359237  # 1 libra = 0.45359237 kg\n",
        "                    self.LONMET = self.LON * 0.3048  # 1 pie = 0.3048 metros\n",
        "\n",
        "                def dinosaurio(self):\n",
        "                    print(f\"Nombre del dinosaurio: {self.NOM}\")\n",
        "                    print(f\"Peso del dinosaurio (en kg): {self.PESKIL}\")\n",
        "                    print(f\"Longitud del dinosaurio (en m): {self.LONMET}\")\n",
        "\n",
        "                def archivos_texto(self):\n",
        "                    with open(\"dinosaurio.txt\", 'w') as archivo:\n",
        "                        archivo.write(f\"Nombre del dinosaurio: {self.NOM}\\n\")\n",
        "                        archivo.write(f\"Peso del dinosaurio (en kg): {self.PESKIL}\\n\")\n",
        "                        archivo.write(f\"Longitud del dinosaurio (en m): {self.LONMET}\\n\")\n",
        "                    print(\"Archivo 'dinosaurio.txt' creado correctamente.\")\n",
        "\n",
        "            dinosaurio = Dinosaurio()\n",
        "            dinosaurio.obtener_datos_dinosaurio()\n",
        "            dinosaurio.archivos_texto()\n",
        "\n",
        "        elif self.programa == 3:\n",
        "            # Programa gasolinera\n",
        "            class EstacionDeServicio:\n",
        "                def __init__(self):\n",
        "                    self.GAL = 0\n",
        "                    self.TOTAL = 0\n",
        "\n",
        "                def obtener_cantidad_galones(self):\n",
        "                    cantidad_galones_usuario = float(input(\"Ingrese la cantidad de galones: \"))\n",
        "                    self.GAL = cantidad_galones_usuario\n",
        "\n",
        "                def gasolina(self):\n",
        "                    litros = self.GAL * 3.785\n",
        "                    precio_por_litro = 8.20\n",
        "                    self.TOTAL = litros * precio_por_litro\n",
        "                    return self.TOTAL\n",
        "\n",
        "                def archivos_texto(self):\n",
        "                    with open(\"gasolinera.txt\", 'w') as archivo:\n",
        "                        archivo.write(f\"Cantidad de galones: {self.GAL}\\n\")\n",
        "                        archivo.write(f\"Total a pagar: ${self.gasolina():.2f}\\n\")\n",
        "                    print(\"Archivo 'gasolinera.txt' creado correctamente.\")\n",
        "\n",
        "            estacion = EstacionDeServicio()\n",
        "            estacion.obtener_cantidad_galones()\n",
        "            estacion.archivos_texto()\n",
        "\n",
        "\n",
        "programa_a_ejecutar = int(input(\"Ingrese el número del programa a ejecutar (1, 2 o 3): \"))\n",
        "ejecutor = Tres_programas(programa_a_ejecutar)\n",
        "ejecutor.ejecutar_programa()\n"
      ]
    }
  ]
}